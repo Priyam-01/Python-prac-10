{
 "cells": [
  {
   "cell_type": "code",
   "execution_count": 1,
   "id": "a9a3291c",
   "metadata": {},
   "outputs": [],
   "source": [
    "a = [\"apple\", \"apple\", \"mango\", \"mango\", \"orange\"]"
   ]
  },
  {
   "cell_type": "code",
   "execution_count": 3,
   "id": "c81baf9c",
   "metadata": {},
   "outputs": [],
   "source": [
    "# expc out = {\"apple\": 2, \"mango\": 2, \"orange\": 1}"
   ]
  },
  {
   "cell_type": "code",
   "execution_count": 4,
   "id": "02988cfb",
   "metadata": {},
   "outputs": [
    {
     "name": "stdout",
     "output_type": "stream",
     "text": [
      "{'apple': 2, 'mango': 2, 'orange': 1}\n"
     ]
    }
   ],
   "source": [
    "set = {}\n",
    "for item in a:\n",
    "    if item in set:\n",
    "        set[item] += 1\n",
    "    else:\n",
    "        set[item] = 1\n",
    "\n",
    "print(set)\n",
    "    "
   ]
  },
  {
   "cell_type": "code",
   "execution_count": 6,
   "id": "a0ef47e6",
   "metadata": {},
   "outputs": [
    {
     "name": "stdout",
     "output_type": "stream",
     "text": [
      "{'apple': 2, 'mango': 2, 'orange': 1}\n"
     ]
    }
   ],
   "source": [
    "fruits_dict = {}\n",
    "a = [\"apple\", \"apple\", \"mango\", \"mango\", \"orange\"]\n",
    "\n",
    "for i in a:\n",
    "    if i in fruits_dict.keys():\n",
    "        value = fruits_dict.get(i)\n",
    "        value = value + 1\n",
    "        fruits_dict[i] = value\n",
    "    else:\n",
    "        fruits_dict[i] = 1\n",
    "print(fruits_dict)"
   ]
  },
  {
   "cell_type": "code",
   "execution_count": 8,
   "id": "f40ebb64",
   "metadata": {},
   "outputs": [
    {
     "name": "stdout",
     "output_type": "stream",
     "text": [
      "{'apple': 2, 'mango': 2, 'orange': 1}\n"
     ]
    }
   ],
   "source": [
    "fruit_dict = {}\n",
    "a = [\"apple\", \"apple\", \"mango\", \"mango\", \"orange\"]\n",
    "for i in a:\n",
    "    fruit_dict[i] = a.count(i)\n",
    "print(fruit_dict)\n"
   ]
  },
  {
   "cell_type": "code",
   "execution_count": 9,
   "id": "06b7e9dd",
   "metadata": {},
   "outputs": [
    {
     "name": "stdout",
     "output_type": "stream",
     "text": [
      "{'apple': 2, 'mango': 2, 'orange': 1}\n"
     ]
    }
   ],
   "source": [
    "fruit_dict = {}\n",
    "a = [\"apple\", \"apple\", \"mango\", \"mango\", \"orange\"]\n",
    "\n",
    "for i in a:\n",
    "    fruit_dict[i] = fruit_dict.get(i, 0) + 1\n",
    "print(fruit_dict)\n",
    "\n",
    "\n"
   ]
  },
  {
   "cell_type": "code",
   "execution_count": 10,
   "id": "fa3f4ad2",
   "metadata": {},
   "outputs": [],
   "source": [
    "# Given is the below dictionary.\n",
    "\n",
    "# dict = {\"Apple\":\"Fruit\",\"Orange\":\"Fruit\",\"Hero Splendor\":\"Bike\",\"Pepsi\":\"Drink\"}\n",
    "\n",
    "\n",
    "# expected o/p: \n",
    "\n",
    "# dict = {\"Fruit\":\"Orange\",\"Bike\":\"Hero Splendor\",\"Drink\":\"Pepsi\"}"
   ]
  },
  {
   "cell_type": "code",
   "execution_count": 12,
   "id": "56d45e27",
   "metadata": {},
   "outputs": [
    {
     "name": "stdout",
     "output_type": "stream",
     "text": [
      "Apple\n",
      "Orange\n",
      "Hero Splendor\n",
      "Pepsi\n"
     ]
    }
   ],
   "source": [
    "a = {\"Apple\":\"Fruit\",\"Orange\":\"Fruit\",\"Hero Splendor\":\"Bike\",\"Pepsi\":\"Drink\"}\n",
    "new_dict = {}\n",
    "for k in a.keys():\n",
    "    print(k) # gives key "
   ]
  },
  {
   "cell_type": "code",
   "execution_count": 13,
   "id": "d983729e",
   "metadata": {},
   "outputs": [
    {
     "name": "stdout",
     "output_type": "stream",
     "text": [
      "Fruit\n",
      "Fruit\n",
      "Bike\n",
      "Drink\n"
     ]
    }
   ],
   "source": [
    "for v in a.values():\n",
    "    print(v) # gives values"
   ]
  },
  {
   "cell_type": "code",
   "execution_count": 57,
   "id": "d4240f9e",
   "metadata": {},
   "outputs": [
    {
     "name": "stdout",
     "output_type": "stream",
     "text": [
      "Apple Fruit\n",
      "Orange Fruit\n",
      "Hero Splendor Bike\n",
      "Pepsi Drink\n"
     ]
    }
   ],
   "source": [
    "a = {\"Apple\":\"Fruit\",\"Orange\":\"Fruit\",\"Hero Splendor\":\"Bike\",\"Pepsi\":\"Drink\"}\n",
    "for i, j in a.items(): #list of tuples\n",
    "    print(i, j)"
   ]
  },
  {
   "cell_type": "code",
   "execution_count": 55,
   "id": "484cfcec",
   "metadata": {
    "scrolled": true
   },
   "outputs": [
    {
     "ename": "AttributeError",
     "evalue": "'list' object has no attribute 'items'",
     "output_type": "error",
     "traceback": [
      "\u001b[1;31m---------------------------------------------------------------------------\u001b[0m",
      "\u001b[1;31mAttributeError\u001b[0m                            Traceback (most recent call last)",
      "Cell \u001b[1;32mIn[55], line 1\u001b[0m\n\u001b[1;32m----> 1\u001b[0m \u001b[38;5;28;01mfor\u001b[39;00m k, v \u001b[38;5;129;01min\u001b[39;00m a\u001b[38;5;241m.\u001b[39mitems():\n\u001b[0;32m      2\u001b[0m     \u001b[38;5;28mprint\u001b[39m(\u001b[38;5;124m\"\u001b[39m\u001b[38;5;124mkey is\u001b[39m\u001b[38;5;124m\"\u001b[39m, k , \u001b[38;5;124m\"\u001b[39m\u001b[38;5;124mvalue is\u001b[39m\u001b[38;5;124m\"\u001b[39m, v)\n",
      "\u001b[1;31mAttributeError\u001b[0m: 'list' object has no attribute 'items'"
     ]
    }
   ],
   "source": [
    "for k, v in a.items():\n",
    "    print(\"key is\", k , \"value is\", v)"
   ]
  },
  {
   "cell_type": "code",
   "execution_count": 16,
   "id": "ed9638f3",
   "metadata": {},
   "outputs": [
    {
     "name": "stdout",
     "output_type": "stream",
     "text": [
      "{'Fruit': 'Orange', 'Bike': 'Hero Splendor', 'Drink': 'Pepsi'}\n"
     ]
    }
   ],
   "source": [
    "new_dict = {}\n",
    "for k, v in a.items():\n",
    "    new_dict[v] = k\n",
    "print(new_dict)"
   ]
  },
  {
   "cell_type": "code",
   "execution_count": 17,
   "id": "90bc1c5f",
   "metadata": {},
   "outputs": [],
   "source": [
    "# a = [5,4,10,21,1,20]\n",
    "# # \n",
    "# # output = [1,4,5,10,20,21]"
   ]
  },
  {
   "cell_type": "code",
   "execution_count": 23,
   "id": "c390d4cc",
   "metadata": {},
   "outputs": [
    {
     "name": "stdout",
     "output_type": "stream",
     "text": [
      "{'Fruits': 'Orange', 'Bike': 'Hero Splendor', 'Drink': 'Pepsi'}\n"
     ]
    }
   ],
   "source": [
    "new_dict = {}\n",
    "dict = {\"Apple\":\"Fruits\",\"Orange\":\"Fruits\",\"Hero Splendor\":\"Bike\",\"Pepsi\":\"Drink\"}\n",
    "for k, v in dict.items():\n",
    "#     print(k, v)\n",
    "    new_dict[v] = k\n",
    "print(new_dict)\n",
    "    "
   ]
  },
  {
   "cell_type": "code",
   "execution_count": 24,
   "id": "6c14755e",
   "metadata": {},
   "outputs": [],
   "source": [
    "# a = [5,4,10,21,1,20]\n",
    "# # \n",
    "# # output = [1,4,5,10,20,21] sorting without using inbuilt function"
   ]
  },
  {
   "cell_type": "code",
   "execution_count": 47,
   "id": "d814f98d",
   "metadata": {},
   "outputs": [
    {
     "ename": "TypeError",
     "evalue": "'list' object cannot be interpreted as an integer",
     "output_type": "error",
     "traceback": [
      "\u001b[1;31m---------------------------------------------------------------------------\u001b[0m",
      "\u001b[1;31mTypeError\u001b[0m                                 Traceback (most recent call last)",
      "Cell \u001b[1;32mIn[47], line 3\u001b[0m\n\u001b[0;32m      1\u001b[0m new_sorted \u001b[38;5;241m=\u001b[39m []\n\u001b[0;32m      2\u001b[0m a \u001b[38;5;241m=\u001b[39m [\u001b[38;5;241m5\u001b[39m,\u001b[38;5;241m4\u001b[39m,\u001b[38;5;241m10\u001b[39m,\u001b[38;5;241m21\u001b[39m,\u001b[38;5;241m1\u001b[39m,\u001b[38;5;241m20\u001b[39m]\n\u001b[1;32m----> 3\u001b[0m \u001b[38;5;28;01mfor\u001b[39;00m i \u001b[38;5;129;01min\u001b[39;00m \u001b[38;5;28mrange\u001b[39m (a):\n\u001b[0;32m      4\u001b[0m     \u001b[38;5;28;01mfor\u001b[39;00m j \u001b[38;5;129;01min\u001b[39;00m \u001b[38;5;28mrange\u001b[39m (i\u001b[38;5;241m+\u001b[39m\u001b[38;5;241m1\u001b[39m, a):\n\u001b[0;32m      5\u001b[0m         \u001b[38;5;28;01mif\u001b[39;00m new_sorted[i] \u001b[38;5;241m>\u001b[39m j[i]:\n",
      "\u001b[1;31mTypeError\u001b[0m: 'list' object cannot be interpreted as an integer"
     ]
    }
   ],
   "source": [
    "new_sorted = []\n",
    "a = [5,4,10,21,1,20]\n",
    "for i in range (a):\n",
    "    for j in range (i+1, a):\n",
    "        if new_sorted[i] > j[i]:\n",
    "            temp = j[i]\n",
    "            j[i] = new_sorted[i]\n",
    "            new_sorted[i] = temp\n",
    "print(j)"
   ]
  },
  {
   "cell_type": "code",
   "execution_count": 49,
   "id": "ebc2dc98",
   "metadata": {},
   "outputs": [
    {
     "ename": "TypeError",
     "evalue": "'list' object cannot be interpreted as an integer",
     "output_type": "error",
     "traceback": [
      "\u001b[1;31m---------------------------------------------------------------------------\u001b[0m",
      "\u001b[1;31mTypeError\u001b[0m                                 Traceback (most recent call last)",
      "Cell \u001b[1;32mIn[49], line 3\u001b[0m\n\u001b[0;32m      1\u001b[0m K \u001b[38;5;241m=\u001b[39m [\u001b[38;5;241m5\u001b[39m,\u001b[38;5;241m4\u001b[39m,\u001b[38;5;241m10\u001b[39m,\u001b[38;5;241m21\u001b[39m,\u001b[38;5;241m1\u001b[39m,\u001b[38;5;241m20\u001b[39m]\n\u001b[0;32m      2\u001b[0m I \u001b[38;5;241m=\u001b[39m[]\n\u001b[1;32m----> 3\u001b[0m \u001b[38;5;28;01mfor\u001b[39;00m J \u001b[38;5;129;01min\u001b[39;00m \u001b[38;5;28mrange\u001b[39m (K):\n\u001b[0;32m      4\u001b[0m     \u001b[38;5;28;01mfor\u001b[39;00m T \u001b[38;5;129;01min\u001b[39;00m \u001b[38;5;28mrange\u001b[39m(J\u001b[38;5;241m+\u001b[39m\u001b[38;5;241m1\u001b[39m, K):\n\u001b[0;32m      5\u001b[0m         \u001b[38;5;28;01mif\u001b[39;00m I[T] \u001b[38;5;241m<\u001b[39m I[J]:\n",
      "\u001b[1;31mTypeError\u001b[0m: 'list' object cannot be interpreted as an integer"
     ]
    }
   ],
   "source": [
    "K = [5,4,10,21,1,20]\n",
    "I =[]\n",
    "for J in range (K):\n",
    "    for T in range(J+1, K):\n",
    "        if I[T] < I[J]:\n",
    "            I[J] = temp\n",
    "            I[T] = I[J]\n",
    "            I[T] = temp\n",
    "print(\"The new sorted list is: \", I)"
   ]
  },
  {
   "cell_type": "code",
   "execution_count": 63,
   "id": "95af21bc",
   "metadata": {},
   "outputs": [
    {
     "ename": "TypeError",
     "evalue": "'list' object cannot be interpreted as an integer",
     "output_type": "error",
     "traceback": [
      "\u001b[1;31m---------------------------------------------------------------------------\u001b[0m",
      "\u001b[1;31mTypeError\u001b[0m                                 Traceback (most recent call last)",
      "Cell \u001b[1;32mIn[63], line 4\u001b[0m\n\u001b[0;32m      1\u001b[0m new_sorted \u001b[38;5;241m=\u001b[39m []\n\u001b[0;32m      2\u001b[0m a \u001b[38;5;241m=\u001b[39m [\u001b[38;5;241m5\u001b[39m,\u001b[38;5;241m4\u001b[39m,\u001b[38;5;241m10\u001b[39m,\u001b[38;5;241m21\u001b[39m,\u001b[38;5;241m1\u001b[39m,\u001b[38;5;241m20\u001b[39m]\n\u001b[1;32m----> 4\u001b[0m \u001b[38;5;28;01mfor\u001b[39;00m i \u001b[38;5;129;01min\u001b[39;00m \u001b[38;5;28mrange\u001b[39m(a):\n\u001b[0;32m      5\u001b[0m     \u001b[38;5;28;01mfor\u001b[39;00m j \u001b[38;5;129;01min\u001b[39;00m \u001b[38;5;28mrange\u001b[39m(i\u001b[38;5;241m+\u001b[39m\u001b[38;5;241m1\u001b[39m, a):\n\u001b[0;32m      6\u001b[0m         \u001b[38;5;28;01mif\u001b[39;00m new_sorted[j] \u001b[38;5;241m<\u001b[39m new_Sorted[i]:\n",
      "\u001b[1;31mTypeError\u001b[0m: 'list' object cannot be interpreted as an integer"
     ]
    }
   ],
   "source": [
    "new_sorted = []\n",
    "a = [5,4,10,21,1,20]\n",
    "\n",
    "for i in range(a):\n",
    "    for j in range(i+1, a):\n",
    "        if new_sorted[j] < new_Sorted[i]:\n",
    "            temp = new_sorted[i]\n",
    "            new_sorted[i] = new_sorted[j]\n",
    "            new_sorted[j] = temp\n",
    "            \n",
    "print(new_sorted)\n",
    "            \n",
    "            \n"
   ]
  },
  {
   "cell_type": "code",
   "execution_count": 64,
   "id": "70fbd527",
   "metadata": {},
   "outputs": [
    {
     "name": "stdout",
     "output_type": "stream",
     "text": [
      "[1, 4, 5, 10, 20, 21]\n"
     ]
    }
   ],
   "source": [
    "a = [5, 4, 10, 21, 1, 20]\n",
    "new_sorted = a.copy()\n",
    "\n",
    "for i in range(len(a)):\n",
    "    for j in range(i+1, len(a)):\n",
    "        if new_sorted[j] < new_sorted[i]:\n",
    "            temp = new_sorted[i]\n",
    "            new_sorted[i] = new_sorted[j]\n",
    "            new_sorted[j] = temp\n",
    "            \n",
    "print(new_sorted)"
   ]
  },
  {
   "cell_type": "code",
   "execution_count": null,
   "id": "cdc56547",
   "metadata": {},
   "outputs": [],
   "source": []
  }
 ],
 "metadata": {
  "kernelspec": {
   "display_name": "Python 3 (ipykernel)",
   "language": "python",
   "name": "python3"
  },
  "language_info": {
   "codemirror_mode": {
    "name": "ipython",
    "version": 3
   },
   "file_extension": ".py",
   "mimetype": "text/x-python",
   "name": "python",
   "nbconvert_exporter": "python",
   "pygments_lexer": "ipython3",
   "version": "3.11.5"
  }
 },
 "nbformat": 4,
 "nbformat_minor": 5
}
